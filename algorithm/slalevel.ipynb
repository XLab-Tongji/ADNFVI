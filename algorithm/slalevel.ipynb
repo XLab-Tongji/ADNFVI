{
 "cells": [
  {
   "cell_type": "markdown",
   "metadata": {},
   "source": [
    "# Faultload"
   ]
  },
  {
   "cell_type": "markdown",
   "metadata": {},
   "source": [
    "## Import dependency"
   ]
  },
  {
   "cell_type": "code",
   "execution_count": 1,
   "metadata": {},
   "outputs": [],
   "source": [
    "import pandas\n",
    "import random\n",
    "import numpy as np\n",
    "from sklearn import svm\n",
    "from sklearn.neighbors import KNeighborsClassifier\n",
    "from sklearn.tree import DecisionTreeClassifier\n",
    "from sklearn.ensemble import RandomForestClassifier\n",
    "from sklearn.metrics import classification_report"
   ]
  },
  {
   "cell_type": "markdown",
   "metadata": {},
   "source": [
    "## Prepare data"
   ]
  },
  {
   "cell_type": "code",
   "execution_count": 2,
   "metadata": {},
   "outputs": [],
   "source": [
    "data_raw = pandas.read_csv(\"../data/sla-level.csv\")\n",
    "\n",
    "data = np.array(data_raw)\n",
    "\n",
    "random.shuffle(data)\n",
    "\n",
    "# 137 = 136 features + 1 label\n",
    "data_features = data[:,:-1]\n",
    "data_labels = np.concatenate(data[:,-1:])\n",
    "\n",
    "for i in xrange(data_features.shape[1]):\n",
    "    d_min = data_features[:, i].min()\n",
    "    d_max = data_features[:, i].max()\n",
    "    if d_min == d_max:\n",
    "        data_features[:, i] = 1\n",
    "        continue\n",
    "    data_features[:, i] -= d_max\n",
    "    data_features[:, i] /= d_max\n",
    "\n",
    "data_train = data_features[:582, :]\n",
    "class_train = data_labels[:582]\n",
    "\n",
    "data_test = data_features[582:, :]\n",
    "class_test = data_labels[582:]"
   ]
  },
  {
   "cell_type": "markdown",
   "metadata": {},
   "source": [
    "## Algorithm score"
   ]
  },
  {
   "cell_type": "code",
   "execution_count": 3,
   "metadata": {},
   "outputs": [
    {
     "name": "stdout",
     "output_type": "stream",
     "text": [
      "Nearest Neighbors\n",
      "test: 0.975\n",
      "             precision    recall  f1-score   support\n",
      "\n",
      "        0.0       1.00      0.98      0.99        92\n",
      "        1.0       0.50      0.75      0.60         4\n",
      "        2.0       0.98      0.98      0.98       104\n",
      "\n",
      "avg / total       0.98      0.97      0.98       200\n",
      "\n",
      "\n",
      "\n",
      "Linear SVM\n",
      "test: 0.98\n",
      "             precision    recall  f1-score   support\n",
      "\n",
      "        0.0       0.96      1.00      0.98        92\n",
      "        1.0       0.00      0.00      0.00         4\n",
      "        2.0       1.00      1.00      1.00       104\n",
      "\n",
      "avg / total       0.96      0.98      0.97       200\n",
      "\n",
      "\n",
      "\n",
      "RBF SVM\n",
      "test: 0.98\n",
      "             precision    recall  f1-score   support\n",
      "\n",
      "        0.0       0.96      1.00      0.98        92\n",
      "        1.0       0.00      0.00      0.00         4\n",
      "        2.0       1.00      1.00      1.00       104\n",
      "\n",
      "avg / total       0.96      0.98      0.97       200\n",
      "\n",
      "\n",
      "\n",
      "Decision Tree\n",
      "test: 0.99\n",
      "             precision    recall  f1-score   support\n",
      "\n",
      "        0.0       0.98      1.00      0.99        92\n",
      "        1.0       1.00      0.50      0.67         4\n",
      "        2.0       1.00      1.00      1.00       104\n",
      "\n",
      "avg / total       0.99      0.99      0.99       200\n",
      "\n",
      "\n",
      "\n",
      "Random Forest\n",
      "test: 1.0\n",
      "             precision    recall  f1-score   support\n",
      "\n",
      "        0.0       1.00      1.00      1.00        92\n",
      "        1.0       1.00      1.00      1.00         4\n",
      "        2.0       1.00      1.00      1.00       104\n",
      "\n",
      "avg / total       1.00      1.00      1.00       200\n",
      "\n",
      "\n",
      "\n"
     ]
    },
    {
     "name": "stderr",
     "output_type": "stream",
     "text": [
      "/Library/Python/2.7/site-packages/sklearn/metrics/classification.py:1135: UndefinedMetricWarning: Precision and F-score are ill-defined and being set to 0.0 in labels with no predicted samples.\n",
      "  'precision', 'predicted', average, warn_for)\n"
     ]
    }
   ],
   "source": [
    "classifiers = [\n",
    "    KNeighborsClassifier(4),\n",
    "    svm.SVC(kernel=\"linear\", C=0.025),\n",
    "    svm.SVC(),\n",
    "    DecisionTreeClassifier(max_depth=3),\n",
    "    RandomForestClassifier(max_depth=5, n_estimators=10, max_features=1)\n",
    "    ]\n",
    "names = [\"Nearest Neighbors\", \"Linear SVM\", \"RBF SVM\", \"Decision Tree\",\n",
    "         \"Random Forest\"]\n",
    "\n",
    "for name, clf in zip(names,classifiers):\n",
    "    clf.fit(data_train,class_train)\n",
    "    print name\n",
    "#     print \"train: {}\".format(clf.score(data_train, class_train))\n",
    "#     y_true = class_train\n",
    "#     y_pred = clf.predict(data_train)\n",
    "#     print classification_report(y_true, y_pred)\n",
    "    \n",
    "    print \"test: {}\".format(clf.score(data_test, class_test))\n",
    "    y_true = class_test\n",
    "    y_pred = clf.predict(data_test)\n",
    "    print classification_report(y_true, y_pred)\n",
    "    print '\\n'"
   ]
  },
  {
   "cell_type": "code",
   "execution_count": null,
   "metadata": {},
   "outputs": [],
   "source": []
  }
 ],
 "metadata": {
  "kernelspec": {
   "display_name": "Python 2",
   "language": "python",
   "name": "python2"
  },
  "language_info": {
   "codemirror_mode": {
    "name": "ipython",
    "version": 2
   },
   "file_extension": ".py",
   "mimetype": "text/x-python",
   "name": "python",
   "nbconvert_exporter": "python",
   "pygments_lexer": "ipython2",
   "version": "2.7.10"
  }
 },
 "nbformat": 4,
 "nbformat_minor": 2
}
