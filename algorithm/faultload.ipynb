{
 "cells": [
  {
   "cell_type": "markdown",
   "metadata": {},
   "source": [
    "# Faultload"
   ]
  },
  {
   "cell_type": "markdown",
   "metadata": {},
   "source": [
    "## Import dependency"
   ]
  },
  {
   "cell_type": "code",
   "execution_count": 1,
   "metadata": {},
   "outputs": [],
   "source": [
    "import pandas\n",
    "import random\n",
    "import numpy as np\n",
    "from sklearn import svm\n",
    "from sklearn.neighbors import KNeighborsClassifier\n",
    "from sklearn.tree import DecisionTreeClassifier\n",
    "from sklearn.ensemble import RandomForestClassifier\n",
    "from sklearn.metrics import classification_report"
   ]
  },
  {
   "cell_type": "markdown",
   "metadata": {},
   "source": [
    "## Prepare data"
   ]
  },
  {
   "cell_type": "code",
   "execution_count": 2,
   "metadata": {},
   "outputs": [],
   "source": [
    "data_raw = pandas.read_csv(\"../data/faultload.csv\")\n",
    "data = np.array(data_raw)\n",
    "\n",
    "random.shuffle(data)\n",
    "\n",
    "data_features = data[:, :-12]\n",
    "data_labels = data[:, -12:]\n",
    "\n",
    "for i in xrange(data_features.shape[1]):\n",
    "    d_min = data_features[:, i].min()\n",
    "    d_max = data_features[:, i].max()\n",
    "    if d_min == d_max:\n",
    "        data_features[:, i] = 1\n",
    "        continue\n",
    "    data_features[:, i] -= d_max\n",
    "    data_features[:, i] /= d_max\n",
    "\n",
    "data_train = data_features[:580, :]\n",
    "class_train = [int(np.dot([0, 1, 2, 3, 4, 5, 6, 7, 8, 9, 10, 11], label)) for label in data_labels[:580, :]]\n",
    "\n",
    "data_test = data_features[580:, :]\n",
    "class_test = [int(np.dot([0, 1, 2, 3, 4, 5, 6, 7, 8, 9, 10, 11], label)) for label in data_labels[580:, :]]"
   ]
  },
  {
   "cell_type": "markdown",
   "metadata": {},
   "source": [
    "## Algorithm score"
   ]
  },
  {
   "cell_type": "code",
   "execution_count": 3,
   "metadata": {},
   "outputs": [
    {
     "name": "stdout",
     "output_type": "stream",
     "text": [
      "Nearest Neighbors\n",
      "test: 0.948717948718\n",
      "                  precision    recall  f1-score   support\n",
      "\n",
      "     bono_normal       0.99      0.96      0.97       153\n",
      "        bono_cpu       0.14      1.00      0.25         1\n",
      "        bono_mem       0.00      0.00      0.00         2\n",
      "\n",
      "     avg / total       0.97      0.95      0.96       156\n",
      "\n",
      "\n",
      "\n",
      "Linear SVM\n",
      "test: 0.980769230769\n",
      "                  precision    recall  f1-score   support\n",
      "\n",
      "     bono_normal       0.98      1.00      0.99       153\n",
      "        bono_cpu       0.00      0.00      0.00         1\n",
      "        bono_mem       0.00      0.00      0.00         2\n",
      "\n",
      "     avg / total       0.96      0.98      0.97       156\n",
      "\n",
      "\n",
      "\n",
      "RBF SVM\n",
      "test: 0.980769230769\n",
      "                  precision    recall  f1-score   support\n",
      "\n",
      "     bono_normal       0.98      1.00      0.99       153\n",
      "        bono_cpu       0.00      0.00      0.00         1\n",
      "        bono_mem       0.00      0.00      0.00         2\n",
      "\n",
      "     avg / total       0.96      0.98      0.97       156\n",
      "\n",
      "\n",
      "\n",
      "Decision Tree\n",
      "test: 0.987179487179\n",
      "                  precision    recall  f1-score   support\n",
      "\n",
      "     bono_normal       0.99      1.00      0.99       153\n",
      "        bono_cpu       1.00      1.00      1.00         1\n",
      "        bono_mem       0.00      0.00      0.00         2\n",
      "\n",
      "     avg / total       0.97      0.99      0.98       156\n",
      "\n",
      "\n",
      "\n",
      "Random Forest\n",
      "test: 0.987179487179\n",
      "                  precision    recall  f1-score   support\n",
      "\n",
      "     bono_normal       0.99      1.00      0.99       153\n",
      "        bono_cpu       1.00      1.00      1.00         1\n",
      "        bono_mem       0.00      0.00      0.00         2\n",
      "\n",
      "     avg / total       0.97      0.99      0.98       156\n",
      "\n",
      "\n",
      "\n"
     ]
    },
    {
     "name": "stderr",
     "output_type": "stream",
     "text": [
      "/Library/Python/2.7/site-packages/sklearn/metrics/classification.py:1428: UserWarning: labels size, 3, does not match size of target_names, 12\n",
      "  .format(len(labels), len(target_names))\n",
      "/Library/Python/2.7/site-packages/sklearn/metrics/classification.py:1135: UndefinedMetricWarning: Precision and F-score are ill-defined and being set to 0.0 in labels with no predicted samples.\n",
      "  'precision', 'predicted', average, warn_for)\n"
     ]
    }
   ],
   "source": [
    "classifiers = [\n",
    "    KNeighborsClassifier(4),\n",
    "    svm.SVC(kernel=\"linear\", C=0.025),\n",
    "    svm.SVC(),\n",
    "    DecisionTreeClassifier(max_depth=3),\n",
    "    RandomForestClassifier(max_depth=5, n_estimators=10, max_features=1)\n",
    "    ]\n",
    "names = [\"Nearest Neighbors\", \"Linear SVM\", \"RBF SVM\", \"Decision Tree\",\n",
    "         \"Random Forest\"]\n",
    "\n",
    "for name, clf in zip(names,classifiers):\n",
    "    clf.fit(data_train,class_train)\n",
    "    print name\n",
    "    target_names = ['bono_normal', 'bono_cpu', 'bono_mem', 'bono_io', 'homestead_normal', 'homestead_cpu', 'homestead_mem', 'homestead_io', 'sprout_normal', 'sprout_cpu', 'sprout_mem', 'sprout_io']\n",
    "\n",
    "#     print \"train: {}\".format(clf.score(data_train, class_train))\n",
    "#     y_true = class_train\n",
    "#     y_pred = clf.predict(data_train)\n",
    "#     print classification_report(y_true, y_pred)\n",
    "    \n",
    "    print \"test: {}\".format(clf.score(data_test, class_test))\n",
    "    y_true = class_test\n",
    "    y_pred = clf.predict(data_test)\n",
    "    print classification_report(y_true, y_pred, target_names=target_names)\n",
    "    print '\\n'"
   ]
  },
  {
   "cell_type": "code",
   "execution_count": null,
   "metadata": {},
   "outputs": [],
   "source": []
  }
 ],
 "metadata": {
  "kernelspec": {
   "display_name": "Python 2",
   "language": "python",
   "name": "python2"
  },
  "language_info": {
   "codemirror_mode": {
    "name": "ipython",
    "version": 2
   },
   "file_extension": ".py",
   "mimetype": "text/x-python",
   "name": "python",
   "nbconvert_exporter": "python",
   "pygments_lexer": "ipython2",
   "version": "2.7.10"
  }
 },
 "nbformat": 4,
 "nbformat_minor": 2
}
