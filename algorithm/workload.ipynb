{
 "cells": [
  {
   "cell_type": "markdown",
   "metadata": {},
   "source": [
    "# Workload"
   ]
  },
  {
   "cell_type": "markdown",
   "metadata": {},
   "source": [
    "## Import dependency"
   ]
  },
  {
   "cell_type": "code",
   "execution_count": 1,
   "metadata": {},
   "outputs": [],
   "source": [
    "import pandas\n",
    "import random\n",
    "import numpy as np\n",
    "from sklearn import svm\n",
    "from sklearn.neighbors import KNeighborsClassifier\n",
    "from sklearn.tree import DecisionTreeClassifier\n",
    "from sklearn.ensemble import RandomForestClassifier\n",
    "from sklearn.metrics import classification_report"
   ]
  },
  {
   "cell_type": "markdown",
   "metadata": {},
   "source": [
    "## Prepare data"
   ]
  },
  {
   "cell_type": "code",
   "execution_count": 2,
   "metadata": {},
   "outputs": [],
   "source": [
    "data_raw = pandas.read_csv(\"../data/workload.csv\")\n",
    "data = np.array(data_raw)\n",
    "\n",
    "random.shuffle(data)\n",
    "\n",
    "# 137 = 136 features + 1 label\n",
    "data_features = data[:,:-1]\n",
    "data_labels = np.concatenate(data[:,-1:])\n",
    "\n",
    "for i in xrange(data_features.shape[1]):\n",
    "    d_min = data_features[:, i].min()\n",
    "    d_max = data_features[:, i].max()\n",
    "    if d_min == d_max:\n",
    "        data_features[:, i] = 1\n",
    "        continue\n",
    "    data_features[:, i] -= d_max\n",
    "    data_features[:, i] /= d_max\n",
    "\n",
    "data_labels *= 10\n",
    "\n",
    "data_train = data_features[:480, :]\n",
    "class_train = data_labels[:480]\n",
    "\n",
    "data_test = data_features[480:, :]\n",
    "class_test = data_labels[480:]"
   ]
  },
  {
   "cell_type": "markdown",
   "metadata": {},
   "source": [
    "## Algorithm score"
   ]
  },
  {
   "cell_type": "code",
   "execution_count": 3,
   "metadata": {},
   "outputs": [
    {
     "name": "stdout",
     "output_type": "stream",
     "text": [
      "Nearest Neighbors\n",
      "test: 0.758333333333\n",
      "             precision    recall  f1-score   support\n",
      "\n",
      "        5.0       0.66      1.00      0.79        27\n",
      "       10.0       0.87      1.00      0.93        26\n",
      "       15.0       1.00      1.00      1.00        27\n",
      "       20.0       0.50      0.44      0.47        25\n",
      "       25.0       0.00      0.00      0.00        15\n",
      "\n",
      "avg / total       0.67      0.76      0.70       120\n",
      "\n",
      "\n",
      "\n",
      "Linear SVM\n",
      "test: 0.408333333333\n",
      "             precision    recall  f1-score   support\n",
      "\n",
      "        5.0       0.26      0.85      0.39        27\n",
      "       10.0       0.00      0.00      0.00        26\n",
      "       15.0       0.87      0.96      0.91        27\n",
      "       20.0       0.00      0.00      0.00        25\n",
      "       25.0       0.00      0.00      0.00        15\n",
      "\n",
      "avg / total       0.25      0.41      0.29       120\n",
      "\n",
      "\n",
      "\n",
      "RBF SVM\n",
      "test: 0.408333333333\n",
      "             precision    recall  f1-score   support\n",
      "\n",
      "        5.0       0.26      0.85      0.39        27\n",
      "       10.0       0.00      0.00      0.00        26\n",
      "       15.0       0.87      0.96      0.91        27\n",
      "       20.0       0.00      0.00      0.00        25\n",
      "       25.0       0.00      0.00      0.00        15\n",
      "\n",
      "avg / total       0.25      0.41      0.29       120\n",
      "\n",
      "\n",
      "\n",
      "Decision Tree\n",
      "test: 0.875\n",
      "             precision    recall  f1-score   support\n",
      "\n",
      "        5.0       1.00      1.00      1.00        27\n",
      "       10.0       1.00      1.00      1.00        26\n",
      "       15.0       1.00      1.00      1.00        27\n",
      "       20.0       0.62      1.00      0.77        25\n",
      "       25.0       0.00      0.00      0.00        15\n",
      "\n",
      "avg / total       0.80      0.88      0.83       120\n",
      "\n",
      "\n",
      "\n",
      "Random Forest\n",
      "test: 0.875\n",
      "             precision    recall  f1-score   support\n",
      "\n",
      "        5.0       1.00      1.00      1.00        27\n",
      "       10.0       1.00      1.00      1.00        26\n",
      "       15.0       1.00      1.00      1.00        27\n",
      "       20.0       0.62      1.00      0.77        25\n",
      "       25.0       0.00      0.00      0.00        15\n",
      "\n",
      "avg / total       0.80      0.88      0.83       120\n",
      "\n",
      "\n",
      "\n"
     ]
    },
    {
     "name": "stderr",
     "output_type": "stream",
     "text": [
      "/Library/Python/2.7/site-packages/sklearn/metrics/classification.py:1135: UndefinedMetricWarning: Precision and F-score are ill-defined and being set to 0.0 in labels with no predicted samples.\n",
      "  'precision', 'predicted', average, warn_for)\n"
     ]
    }
   ],
   "source": [
    "classifiers = [\n",
    "    KNeighborsClassifier(4),\n",
    "    svm.SVC(kernel=\"linear\", C=0.025),\n",
    "    svm.SVC(),\n",
    "    DecisionTreeClassifier(max_depth=3),\n",
    "    RandomForestClassifier(max_depth=5, n_estimators=10, max_features=1)\n",
    "    ]\n",
    "names = [\"Nearest Neighbors\", \"Linear SVM\", \"RBF SVM\", \"Decision Tree\",\n",
    "         \"Random Forest\"]\n",
    "\n",
    "for name, clf in zip(names,classifiers):\n",
    "    clf.fit(data_train,class_train)\n",
    "    print name\n",
    "#     print \"train: {}\".format(clf.score(data_train, class_train))\n",
    "#     y_true = class_train\n",
    "#     y_pred = clf.predict(data_train)\n",
    "#     print classification_report(y_true, y_pred)\n",
    "    \n",
    "    print \"test: {}\".format(clf.score(data_test, class_test))\n",
    "    y_true = class_test\n",
    "    y_pred = clf.predict(data_test)\n",
    "    print classification_report(y_true, y_pred)\n",
    "    print '\\n'"
   ]
  },
  {
   "cell_type": "code",
   "execution_count": null,
   "metadata": {},
   "outputs": [],
   "source": []
  }
 ],
 "metadata": {
  "kernelspec": {
   "display_name": "Python 2",
   "language": "python",
   "name": "python2"
  },
  "language_info": {
   "codemirror_mode": {
    "name": "ipython",
    "version": 2
   },
   "file_extension": ".py",
   "mimetype": "text/x-python",
   "name": "python",
   "nbconvert_exporter": "python",
   "pygments_lexer": "ipython2",
   "version": "2.7.10"
  }
 },
 "nbformat": 4,
 "nbformat_minor": 2
}
